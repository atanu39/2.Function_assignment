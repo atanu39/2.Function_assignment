{
 "cells": [
  {
   "cell_type": "markdown",
   "id": "b195c2cf-ae8d-4deb-b192-d93dfd7861cc",
   "metadata": {},
   "source": [
    "# Q1. Which keyword is used to create a function? Create a function to return a list of odd numbers in the range of 1 to 25."
   ]
  },
  {
   "cell_type": "markdown",
   "id": "9967a7d2-5969-4c4c-948d-eaaf210bd46d",
   "metadata": {},
   "source": [
    "# Ans:\n",
    "## In Python, We define a function with the def keyword, then write the function identifier (name) followed by parentheses and a colon."
   ]
  },
  {
   "cell_type": "code",
   "execution_count": 3,
   "id": "327f6c8c-5f36-4b68-8997-919bf017ee8d",
   "metadata": {},
   "outputs": [],
   "source": [
    "#Function to return a list of odd numbers in the range of 1 to 25.\n",
    "def odd_num():\n",
    "    a=int(input(\"Enter the range :\"))\n",
    "    n=[ ]\n",
    "    for i in range(a):\n",
    "        if i%2==1:\n",
    "            n.append(i)\n",
    "    return n        "
   ]
  },
  {
   "cell_type": "code",
   "execution_count": 6,
   "id": "dbb05226-f06b-471f-b052-e06326ca70bd",
   "metadata": {},
   "outputs": [
    {
     "name": "stdin",
     "output_type": "stream",
     "text": [
      "Enter the range : 25\n"
     ]
    },
    {
     "name": "stdout",
     "output_type": "stream",
     "text": [
      "Here is the List of Odd Numbers : [1, 3, 5, 7, 9, 11, 13, 15, 17, 19, 21, 23]\n"
     ]
    }
   ],
   "source": [
    "print (\"Here is the List of Odd Numbers :\",odd_num())"
   ]
  },
  {
   "cell_type": "markdown",
   "id": "0c0bcc6f-2e72-4afa-96cd-a26bd2f682dd",
   "metadata": {},
   "source": [
    "# Q2. Why *args and **kwargs is used in some functions? Create a function each for *args and **kwargs to demonstrate their use."
   ]
  },
  {
   "cell_type": "markdown",
   "id": "d1d753b8-d11d-487f-a085-121d5dd5af7f",
   "metadata": {},
   "source": [
    "# Ans:"
   ]
  },
  {
   "cell_type": "markdown",
   "id": "45456d45-076a-4096-b667-b67665c6df08",
   "metadata": {},
   "source": [
    "## In Python, we can pass a variable number of arguments to a function using special symbols. There are two special symbols:\n",
    "\n",
    "## 1.*args (Non Keyword Arguments/Positional Arguments):Python has *args which allow us to pass indefinite number of non keyword arguments to function.\n",
    "## 2.**kwargs (Keyword Arguments):Python passes variable length non keyword argument to function using *args but we cannot use this to pass keyword argument. For this problem Python has got a solution called **kwargs, it allows us to pass indefinite number of keyword arguments to the function.\n"
   ]
  },
  {
   "cell_type": "code",
   "execution_count": 8,
   "id": "302a7d68-0a8b-4a53-b868-df6fc2a39aca",
   "metadata": {},
   "outputs": [],
   "source": [
    "# Function using *args:\n",
    "def fruits(*args): \n",
    "    for fruit in args: \n",
    "        print(fruit) "
   ]
  },
  {
   "cell_type": "code",
   "execution_count": 9,
   "id": "87c57c6f-9393-4b07-820a-ce518f637a91",
   "metadata": {},
   "outputs": [
    {
     "name": "stdout",
     "output_type": "stream",
     "text": [
      "apples\n",
      "bananas\n",
      "grapes\n"
     ]
    }
   ],
   "source": [
    "fruits(\"apples\", \"bananas\", \"grapes\")  "
   ]
  },
  {
   "cell_type": "code",
   "execution_count": 10,
   "id": "3909fb84-842b-4648-aa45-30cf3b415f7e",
   "metadata": {},
   "outputs": [
    {
     "name": "stdout",
     "output_type": "stream",
     "text": [
      "apples\n",
      "bananas\n",
      "grapes\n",
      "blueberries\n",
      "strawberries\n",
      "oranges\n"
     ]
    }
   ],
   "source": [
    "fruits(\"apples\", \"bananas\", \"grapes\", \"blueberries\", \"strawberries\", \"oranges\")"
   ]
  },
  {
   "cell_type": "code",
   "execution_count": 1,
   "id": "3efd88f1-905e-4805-979f-04eeb1a6a011",
   "metadata": {},
   "outputs": [],
   "source": [
    "# Function using *kwargs:\n",
    "def total_fruits(**fruits):#this function will count total no of fruits\n",
    "    total = 0\n",
    "    for amount in fruits.values():\n",
    "        total += amount\n",
    "    return total  "
   ]
  },
  {
   "cell_type": "code",
   "execution_count": 2,
   "id": "3ebae2c8-10b3-48cc-ab6a-4848ff09249e",
   "metadata": {},
   "outputs": [
    {
     "name": "stdout",
     "output_type": "stream",
     "text": [
      "12\n"
     ]
    }
   ],
   "source": [
    "print(total_fruits(banana=5, mango=7))"
   ]
  },
  {
   "cell_type": "code",
   "execution_count": 3,
   "id": "7f2a6ae5-06b8-4f19-8274-0638ec72c632",
   "metadata": {},
   "outputs": [
    {
     "name": "stdout",
     "output_type": "stream",
     "text": [
      "30\n"
     ]
    }
   ],
   "source": [
    "print(total_fruits(banana=5, mango=7, apple=8, oranges=10))"
   ]
  },
  {
   "cell_type": "markdown",
   "id": "d052f13a-26d4-4906-b0e2-20616a06910e",
   "metadata": {},
   "source": [
    "# Q3. What is an iterator in python? Name the method used to initialise the iterator object and the method used for iteration. Use these methods to print the first five elements of the given list [2, 4, 6, 8, 10, 12, 14, 16,18, 20]."
   ]
  },
  {
   "cell_type": "markdown",
   "id": "b47360bb-4677-49b5-b8ea-20ef18a8c4d7",
   "metadata": {},
   "source": [
    "# Ans :"
   ]
  },
  {
   "cell_type": "markdown",
   "id": "284546ea-c802-4345-a6eb-46a9546c7c78",
   "metadata": {},
   "source": [
    "## Iterator in Python is an object that is used to iterate over iterable objects like lists, tuples, dicts, and sets. The iterator object is initialized using the iter() method. It uses the next() method for iteration.\n",
    "\n",
    "## 1 ) __iter__(): The iter() method is called for the initialization of an iterator. This returns an iterator object\n",
    "## 2 ) __next__(): The next method returns the next value for the iterable. When we use a for loop to traverse any iterable object, internally it uses the iter() method to get an iterator object, which further uses the next() method to iterate over. This method raises a StopIteration to signal the end of the iteration."
   ]
  },
  {
   "cell_type": "code",
   "execution_count": 14,
   "id": "0891b7cc-7291-4b8a-979a-90486e980a54",
   "metadata": {},
   "outputs": [],
   "source": [
    "#Using these(iter(),next()) methods to print the first five elements of the given list [2, 4, 6, 8, 10, 12, 14, 16,18, 20].\n",
    "\n",
    "lst= [2, 4, 6, 8, 10, 12, 14, 16,18, 20]\n",
    "list_elm=iter(lst)              # initialization of an iterator"
   ]
  },
  {
   "cell_type": "code",
   "execution_count": 15,
   "id": "73249ce4-3327-494c-aa44-1b4748262a16",
   "metadata": {},
   "outputs": [
    {
     "name": "stdout",
     "output_type": "stream",
     "text": [
      "2\n"
     ]
    }
   ],
   "source": [
    "print(next(list_elm))           # printing next element for the iterable"
   ]
  },
  {
   "cell_type": "code",
   "execution_count": 16,
   "id": "a6c7d3a4-003c-461b-b4bf-00471458d48c",
   "metadata": {},
   "outputs": [
    {
     "name": "stdout",
     "output_type": "stream",
     "text": [
      "4\n"
     ]
    }
   ],
   "source": [
    "print(next(list_elm))"
   ]
  },
  {
   "cell_type": "code",
   "execution_count": 17,
   "id": "d0865c7e-e8b6-4f32-83ce-3dd08ca974a5",
   "metadata": {},
   "outputs": [
    {
     "name": "stdout",
     "output_type": "stream",
     "text": [
      "6\n"
     ]
    }
   ],
   "source": [
    "print(next(list_elm))"
   ]
  },
  {
   "cell_type": "code",
   "execution_count": 18,
   "id": "3e11a373-d8c4-43ef-a93c-bd330e75fd01",
   "metadata": {},
   "outputs": [
    {
     "name": "stdout",
     "output_type": "stream",
     "text": [
      "8\n"
     ]
    }
   ],
   "source": [
    "print(next(list_elm))"
   ]
  },
  {
   "cell_type": "code",
   "execution_count": 19,
   "id": "50ab0f4e-20aa-410b-bfb8-1a7d2562ff20",
   "metadata": {},
   "outputs": [
    {
     "name": "stdout",
     "output_type": "stream",
     "text": [
      "10\n"
     ]
    }
   ],
   "source": [
    "print(next(list_elm))"
   ]
  },
  {
   "cell_type": "markdown",
   "id": "4d213fa7-f770-4f1a-bfbb-da629b7b3a09",
   "metadata": {},
   "source": [
    "# Q4. What is a generator function in python? Why yield keyword is used? Give an example of a generator function."
   ]
  },
  {
   "cell_type": "markdown",
   "id": "f683de62-1e91-4b1a-9776-240db1a59bd8",
   "metadata": {},
   "source": [
    "# Ans:"
   ]
  },
  {
   "cell_type": "markdown",
   "id": "c055c283-b2a2-4a0b-b8c2-d873bf05f7cb",
   "metadata": {},
   "source": [
    "## In Python, generator functions are those functions that, instead of returning a single value, return an iterable generator object. We can access or read the values returned from the generator function stored inside a generator object one-by-one using a simple loop or using next() or list() methods.We can create a generator function using the generator() and yield keywords.\n",
    "## Generators are useful when we want to produce a large sequence of values, but we don't want to store all of them in memory at once.\n",
    "\n",
    "## Yield keyword : is used to create a generator function. A type of function that is memory efficient and can be used like an iterator object. In layman terms, the yield keyword will turn any expression that is given with it into a generator object and return it to the caller.Therefore, we must iterate over the generator object if we wish to obtain the values stored there."
   ]
  },
  {
   "cell_type": "code",
   "execution_count": 31,
   "id": "e83e5826-a40d-46b1-84c8-8050ec203e47",
   "metadata": {},
   "outputs": [],
   "source": [
    "#Example :Consider the example below for Fibonacci Generator.\n",
    "\n",
    "def fib_sers():\n",
    "    n=int(input(\"Enter the range :\"))\n",
    "    a,b=0,1\n",
    "    for i in range(n):\n",
    "        yield a\n",
    "        a,b=b,a+b\n",
    "          "
   ]
  },
  {
   "cell_type": "code",
   "execution_count": 34,
   "id": "c64b3b31-9a6f-4e73-8801-63baf7bf6644",
   "metadata": {},
   "outputs": [
    {
     "name": "stdin",
     "output_type": "stream",
     "text": [
      "Enter the range : 10\n"
     ]
    },
    {
     "name": "stdout",
     "output_type": "stream",
     "text": [
      "0\n",
      "1\n",
      "1\n",
      "2\n",
      "3\n",
      "5\n",
      "8\n",
      "13\n",
      "21\n",
      "34\n"
     ]
    }
   ],
   "source": [
    "for i in fib_sers():\n",
    "    print( i)"
   ]
  },
  {
   "cell_type": "markdown",
   "id": "850c39ce-77cc-4853-b653-d5b00b739c64",
   "metadata": {},
   "source": [
    "# Q5. Create a generator function for prime numbers less than 1000. Use the next() method to print the first 20 prime numbers."
   ]
  },
  {
   "cell_type": "markdown",
   "id": "b5b3e3ae-4874-42e4-85f4-87015d5cf2a2",
   "metadata": {},
   "source": [
    "# Ans :"
   ]
  },
  {
   "cell_type": "code",
   "execution_count": 95,
   "id": "98a39a47-51ae-460a-8729-9ddf935a95a7",
   "metadata": {},
   "outputs": [],
   "source": [
    "def prime_num_generator():\n",
    "    for num in range(1000):            # Range iteration loop\n",
    "        if num>1:\n",
    "            for i in range(2,num):  # divisibility checking loop\n",
    "                if num%i==0:\n",
    "                    break\n",
    "            else: \n",
    "                yield(num)"
   ]
  },
  {
   "cell_type": "code",
   "execution_count": 98,
   "id": "d8ad5975-3037-4ea3-b227-7cd38fda62c1",
   "metadata": {},
   "outputs": [
    {
     "name": "stdout",
     "output_type": "stream",
     "text": [
      "2\n",
      "3\n",
      "5\n",
      "7\n",
      "11\n",
      "13\n",
      "17\n",
      "19\n",
      "23\n",
      "29\n",
      "31\n",
      "37\n",
      "41\n",
      "43\n",
      "47\n",
      "53\n",
      "59\n",
      "61\n",
      "67\n",
      "71\n"
     ]
    }
   ],
   "source": [
    "prime_num=prime_num_generator()\n",
    "for i in range(20):\n",
    "    print(next(prime_num))"
   ]
  },
  {
   "cell_type": "code",
   "execution_count": null,
   "id": "490c1a15-c670-4c51-aaac-244f6280cf70",
   "metadata": {},
   "outputs": [],
   "source": []
  }
 ],
 "metadata": {
  "kernelspec": {
   "display_name": "Python 3 (ipykernel)",
   "language": "python",
   "name": "python3"
  },
  "language_info": {
   "codemirror_mode": {
    "name": "ipython",
    "version": 3
   },
   "file_extension": ".py",
   "mimetype": "text/x-python",
   "name": "python",
   "nbconvert_exporter": "python",
   "pygments_lexer": "ipython3",
   "version": "3.10.8"
  }
 },
 "nbformat": 4,
 "nbformat_minor": 5
}
